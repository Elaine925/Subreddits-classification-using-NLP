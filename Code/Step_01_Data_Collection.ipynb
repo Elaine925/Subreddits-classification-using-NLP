{
 "cells": [
  {
   "cell_type": "markdown",
   "id": "cafd90a0",
   "metadata": {},
   "source": [
    "# **1. Import libraries**"
   ]
  },
  {
   "cell_type": "code",
   "execution_count": 1,
   "id": "dc597416",
   "metadata": {},
   "outputs": [],
   "source": [
    "import pandas as pd\n",
    "import numpy as np\n",
    "\n",
    "import praw"
   ]
  },
  {
   "cell_type": "markdown",
   "id": "22da840a",
   "metadata": {},
   "source": [
    "# **2.  Import API credentials**"
   ]
  },
  {
   "cell_type": "code",
   "execution_count": 2,
   "id": "2711ec3b",
   "metadata": {},
   "outputs": [],
   "source": [
    "with open('../../../../something/project-3/p3info.text') as input_file:\n",
    "    all_info = []\n",
    "    for line in input_file:\n",
    "        c_line = line.rstrip()\n",
    "        all_info+=c_line.split('=')\n",
    "    keys = []\n",
    "    values = []\n",
    "\n",
    "    for i in range(0,len(all_info)):\n",
    "        if i%2 ==0:\n",
    "            keys.append(all_info[i])\n",
    "        else:\n",
    "            values.append(all_info[i])\n",
    "    res = dict(map(lambda i,j : (i,j) , keys,values))\n",
    "            "
   ]
  },
  {
   "cell_type": "markdown",
   "id": "ce0f7418",
   "metadata": {},
   "source": [
    "# **3. Initialize PRAW**"
   ]
  },
  {
   "cell_type": "code",
   "execution_count": 3,
   "id": "9d0e9628",
   "metadata": {},
   "outputs": [],
   "source": [
    "reddit = praw.Reddit(\n",
    "    client_id=res['cid'],\n",
    "    client_secret=res['cser'],\n",
    "    user_agent=res['uagnt'],\n",
    "    username=res['uname'],\n",
    "    password=res['pwd']\n",
    ")"
   ]
  },
  {
   "cell_type": "markdown",
   "id": "82c7c8b5",
   "metadata": {},
   "source": [
    "# **4. Data Collection**"
   ]
  },
  {
   "cell_type": "markdown",
   "id": "aadd26c1",
   "metadata": {},
   "source": [
    "### Extract first subreddit **r/Cooking**"
   ]
  },
  {
   "cell_type": "markdown",
   "id": "2b369696",
   "metadata": {},
   "source": [
    "#### Only extract **r/Cooking** posts that have texts in self text for more tokens"
   ]
  },
  {
   "cell_type": "code",
   "execution_count": 4,
   "id": "7b6f382a",
   "metadata": {},
   "outputs": [
    {
     "name": "stdout",
     "output_type": "stream",
     "text": [
      "CPU times: user 865 ms, sys: 73.5 ms, total: 939 ms\n",
      "Wall time: 37.9 s\n"
     ]
    }
   ],
   "source": [
    "%%time\n",
    "subreddit = reddit.subreddit('VisitingHawaii') \n",
    "\n",
    "c_posts_hot = subreddit.hot(limit=1000) \n",
    "c_posts_top = subreddit.top(limit = 1000) \n",
    "c_posts_cont = subreddit.controversial(limit = 1000) \n",
    "\n",
    "\n",
    "data_c = []\n",
    "for post in c_posts_hot:\n",
    "    if not post.stickied and post.is_self:\n",
    "        data_c.append(filter(None,[post.created_utc,post.title,post.selftext,post.subreddit]))\n",
    "for post in c_posts_top:\n",
    "    if not post.stickied and post.is_self:\n",
    "        data_c.append(filter(None,[post.created_utc,post.title,post.selftext,post.subreddit]))\n",
    "for post in c_posts_cont:\n",
    "    if not post.stickied and post.is_self:\n",
    "        data_c.append(filter(None,[post.created_utc,post.title,post.selftext,post.subreddit]))\n"
   ]
  },
  {
   "cell_type": "code",
   "execution_count": 5,
   "id": "f27fc6c7",
   "metadata": {},
   "outputs": [
    {
     "data": {
      "text/html": [
       "<div>\n",
       "<style scoped>\n",
       "    .dataframe tbody tr th:only-of-type {\n",
       "        vertical-align: middle;\n",
       "    }\n",
       "\n",
       "    .dataframe tbody tr th {\n",
       "        vertical-align: top;\n",
       "    }\n",
       "\n",
       "    .dataframe thead th {\n",
       "        text-align: right;\n",
       "    }\n",
       "</style>\n",
       "<table border=\"1\" class=\"dataframe\">\n",
       "  <thead>\n",
       "    <tr style=\"text-align: right;\">\n",
       "      <th></th>\n",
       "      <th>created_utc</th>\n",
       "      <th>title</th>\n",
       "      <th>self_text</th>\n",
       "      <th>subreddit</th>\n",
       "    </tr>\n",
       "  </thead>\n",
       "  <tbody>\n",
       "    <tr>\n",
       "      <th>0</th>\n",
       "      <td>1.709520e+09</td>\n",
       "      <td>Hanauma Bay Tour Guides</td>\n",
       "      <td>Hi all. I know this topic has been discussed a...</td>\n",
       "      <td>VisitingHawaii</td>\n",
       "    </tr>\n",
       "    <tr>\n",
       "      <th>1</th>\n",
       "      <td>1.709519e+09</td>\n",
       "      <td>Good + easily walkable food near Hilton Village?</td>\n",
       "      <td>Have a 8 night stay at the Hilton Village with...</td>\n",
       "      <td>VisitingHawaii</td>\n",
       "    </tr>\n",
       "    <tr>\n",
       "      <th>2</th>\n",
       "      <td>1.709530e+09</td>\n",
       "      <td>Selling 4 discounted tickets to Kualoa Ranch J...</td>\n",
       "      <td>My friends and I went a couple months ago and ...</td>\n",
       "      <td>VisitingHawaii</td>\n",
       "    </tr>\n",
       "    <tr>\n",
       "      <th>3</th>\n",
       "      <td>1.709500e+09</td>\n",
       "      <td>Is 5 nights enough on Maui?</td>\n",
       "      <td>**tldr: is in bold.** All input is greatly app...</td>\n",
       "      <td>VisitingHawaii</td>\n",
       "    </tr>\n",
       "    <tr>\n",
       "      <th>4</th>\n",
       "      <td>1.709507e+09</td>\n",
       "      <td>I'm looking for the best 1 month car rental op...</td>\n",
       "      <td>The car rental market is different than a few ...</td>\n",
       "      <td>VisitingHawaii</td>\n",
       "    </tr>\n",
       "  </tbody>\n",
       "</table>\n",
       "</div>"
      ],
      "text/plain": [
       "    created_utc                                              title  \\\n",
       "0  1.709520e+09                            Hanauma Bay Tour Guides   \n",
       "1  1.709519e+09   Good + easily walkable food near Hilton Village?   \n",
       "2  1.709530e+09  Selling 4 discounted tickets to Kualoa Ranch J...   \n",
       "3  1.709500e+09                        Is 5 nights enough on Maui?   \n",
       "4  1.709507e+09  I'm looking for the best 1 month car rental op...   \n",
       "\n",
       "                                           self_text       subreddit  \n",
       "0  Hi all. I know this topic has been discussed a...  VisitingHawaii  \n",
       "1  Have a 8 night stay at the Hilton Village with...  VisitingHawaii  \n",
       "2  My friends and I went a couple months ago and ...  VisitingHawaii  \n",
       "3  **tldr: is in bold.** All input is greatly app...  VisitingHawaii  \n",
       "4  The car rental market is different than a few ...  VisitingHawaii  "
      ]
     },
     "execution_count": 5,
     "metadata": {},
     "output_type": "execute_result"
    }
   ],
   "source": [
    "df_c = pd.DataFrame(data_c, columns = ['created_utc', 'title', 'self_text', 'subreddit'])\n",
    "df_c.head()"
   ]
  },
  {
   "cell_type": "code",
   "execution_count": 6,
   "id": "f90b505c",
   "metadata": {},
   "outputs": [
    {
     "data": {
      "text/html": [
       "<div>\n",
       "<style scoped>\n",
       "    .dataframe tbody tr th:only-of-type {\n",
       "        vertical-align: middle;\n",
       "    }\n",
       "\n",
       "    .dataframe tbody tr th {\n",
       "        vertical-align: top;\n",
       "    }\n",
       "\n",
       "    .dataframe thead th {\n",
       "        text-align: right;\n",
       "    }\n",
       "</style>\n",
       "<table border=\"1\" class=\"dataframe\">\n",
       "  <thead>\n",
       "    <tr style=\"text-align: right;\">\n",
       "      <th></th>\n",
       "      <th>created_utc</th>\n",
       "      <th>title</th>\n",
       "      <th>self_text</th>\n",
       "      <th>subreddit</th>\n",
       "    </tr>\n",
       "  </thead>\n",
       "  <tbody>\n",
       "    <tr>\n",
       "      <th>1240</th>\n",
       "      <td>1.680466e+09</td>\n",
       "      <td>Travel Destinations similar to Hawaii?</td>\n",
       "      <td>I've been to Hawaii twice- Oahu and Maui.\\n\\nL...</td>\n",
       "      <td>VisitingHawaii</td>\n",
       "    </tr>\n",
       "    <tr>\n",
       "      <th>2437</th>\n",
       "      <td>1.673817e+09</td>\n",
       "      <td>Best place for affordable food/groceries</td>\n",
       "      <td>My partner &amp; I will be staying in Oahu for 3 m...</td>\n",
       "      <td>VisitingHawaii</td>\n",
       "    </tr>\n",
       "    <tr>\n",
       "      <th>2708</th>\n",
       "      <td>1.676835e+09</td>\n",
       "      <td>Orchids returning to Mainland</td>\n",
       "      <td>I wife wants to bring back to the mainland an ...</td>\n",
       "      <td>VisitingHawaii</td>\n",
       "    </tr>\n",
       "    <tr>\n",
       "      <th>2693</th>\n",
       "      <td>1.681925e+09</td>\n",
       "      <td>All inclusive resorts</td>\n",
       "      <td>Are there any all inclusive resorts in Maui an...</td>\n",
       "      <td>VisitingHawaii</td>\n",
       "    </tr>\n",
       "    <tr>\n",
       "      <th>313</th>\n",
       "      <td>1.707080e+09</td>\n",
       "      <td>Maui - May vs June</td>\n",
       "      <td>Is there a big difference in crowds and atmosp...</td>\n",
       "      <td>VisitingHawaii</td>\n",
       "    </tr>\n",
       "    <tr>\n",
       "      <th>168</th>\n",
       "      <td>1.708228e+09</td>\n",
       "      <td>Oahu Proposal Suggestions</td>\n",
       "      <td>Aloha! My gf and I are visiting Oahu this year...</td>\n",
       "      <td>VisitingHawaii</td>\n",
       "    </tr>\n",
       "    <tr>\n",
       "      <th>747</th>\n",
       "      <td>1.703817e+09</td>\n",
       "      <td>Sushi/seafood on O'ahu</td>\n",
       "      <td>Hi all, visiting Hawaii in February with my pa...</td>\n",
       "      <td>VisitingHawaii</td>\n",
       "    </tr>\n",
       "    <tr>\n",
       "      <th>1507</th>\n",
       "      <td>1.692756e+09</td>\n",
       "      <td>Does anyone rent Kei vans on Oahu?</td>\n",
       "      <td>Love being in Honolulu, I'm here until the end...</td>\n",
       "      <td>VisitingHawaii</td>\n",
       "    </tr>\n",
       "    <tr>\n",
       "      <th>135</th>\n",
       "      <td>1.708488e+09</td>\n",
       "      <td>Should I visit big island or Hawaii</td>\n",
       "      <td>I'm gonna be in Hawaii for 3 months before I s...</td>\n",
       "      <td>VisitingHawaii</td>\n",
       "    </tr>\n",
       "    <tr>\n",
       "      <th>548</th>\n",
       "      <td>1.705375e+09</td>\n",
       "      <td>Another Waikiki Hotel question - with teens wh...</td>\n",
       "      <td>Hi all,\\n\\nWe are planning a first-time trip t...</td>\n",
       "      <td>VisitingHawaii</td>\n",
       "    </tr>\n",
       "  </tbody>\n",
       "</table>\n",
       "</div>"
      ],
      "text/plain": [
       "       created_utc                                              title  \\\n",
       "1240  1.680466e+09             Travel Destinations similar to Hawaii?   \n",
       "2437  1.673817e+09           Best place for affordable food/groceries   \n",
       "2708  1.676835e+09                      Orchids returning to Mainland   \n",
       "2693  1.681925e+09                              All inclusive resorts   \n",
       "313   1.707080e+09                                 Maui - May vs June   \n",
       "168   1.708228e+09                          Oahu Proposal Suggestions   \n",
       "747   1.703817e+09                             Sushi/seafood on O'ahu   \n",
       "1507  1.692756e+09                 Does anyone rent Kei vans on Oahu?   \n",
       "135   1.708488e+09               Should I visit big island or Hawaii    \n",
       "548   1.705375e+09  Another Waikiki Hotel question - with teens wh...   \n",
       "\n",
       "                                              self_text       subreddit  \n",
       "1240  I've been to Hawaii twice- Oahu and Maui.\\n\\nL...  VisitingHawaii  \n",
       "2437  My partner & I will be staying in Oahu for 3 m...  VisitingHawaii  \n",
       "2708  I wife wants to bring back to the mainland an ...  VisitingHawaii  \n",
       "2693  Are there any all inclusive resorts in Maui an...  VisitingHawaii  \n",
       "313   Is there a big difference in crowds and atmosp...  VisitingHawaii  \n",
       "168   Aloha! My gf and I are visiting Oahu this year...  VisitingHawaii  \n",
       "747   Hi all, visiting Hawaii in February with my pa...  VisitingHawaii  \n",
       "1507  Love being in Honolulu, I'm here until the end...  VisitingHawaii  \n",
       "135   I'm gonna be in Hawaii for 3 months before I s...  VisitingHawaii  \n",
       "548   Hi all,\\n\\nWe are planning a first-time trip t...  VisitingHawaii  "
      ]
     },
     "execution_count": 6,
     "metadata": {},
     "output_type": "execute_result"
    }
   ],
   "source": [
    "df_c.sample(10)"
   ]
  },
  {
   "cell_type": "code",
   "execution_count": 7,
   "id": "4e3cb7a3",
   "metadata": {},
   "outputs": [
    {
     "data": {
      "text/plain": [
       "(2753, 4)"
      ]
     },
     "execution_count": 7,
     "metadata": {},
     "output_type": "execute_result"
    }
   ],
   "source": [
    "df_c.shape"
   ]
  },
  {
   "cell_type": "markdown",
   "id": "24bcb1ac",
   "metadata": {},
   "source": [
    "Keep records that have value in Cooking"
   ]
  },
  {
   "cell_type": "code",
   "execution_count": 8,
   "id": "6bbd9056",
   "metadata": {},
   "outputs": [
    {
     "data": {
      "text/plain": [
       "(2661, 4)"
      ]
     },
     "execution_count": 8,
     "metadata": {},
     "output_type": "execute_result"
    }
   ],
   "source": [
    "df_c_cleaned = df_c[df_c['subreddit'] == 'VisitingHawaii']\n",
    "df_c_cleaned.shape"
   ]
  },
  {
   "cell_type": "markdown",
   "id": "27cc0a40",
   "metadata": {},
   "source": [
    "Remove duplicate records"
   ]
  },
  {
   "cell_type": "code",
   "execution_count": 9,
   "id": "ab6edce8",
   "metadata": {},
   "outputs": [
    {
     "name": "stderr",
     "output_type": "stream",
     "text": [
      "/var/folders/4g/t9m4gw7n7dx1x3j6srwz6zqm0000gn/T/ipykernel_7348/2570703448.py:1: SettingWithCopyWarning: \n",
      "A value is trying to be set on a copy of a slice from a DataFrame\n",
      "\n",
      "See the caveats in the documentation: https://pandas.pydata.org/pandas-docs/stable/user_guide/indexing.html#returning-a-view-versus-a-copy\n",
      "  df_c_cleaned.drop_duplicates(subset = ['title','self_text','subreddit'],inplace = True)\n"
     ]
    }
   ],
   "source": [
    "df_c_cleaned.drop_duplicates(subset = ['title','self_text','subreddit'],inplace = True)"
   ]
  },
  {
   "cell_type": "code",
   "execution_count": 10,
   "id": "5928f936",
   "metadata": {},
   "outputs": [
    {
     "data": {
      "text/plain": [
       "(2380, 4)"
      ]
     },
     "execution_count": 10,
     "metadata": {},
     "output_type": "execute_result"
    }
   ],
   "source": [
    "df_c_cleaned.shape"
   ]
  },
  {
   "cell_type": "markdown",
   "id": "ee8c0a04",
   "metadata": {},
   "source": [
    "### Extract second subreddit **r/travel**"
   ]
  },
  {
   "cell_type": "markdown",
   "id": "cd14fb4d",
   "metadata": {},
   "source": [
    "#### Only extract subreddit **r/travel** posts that have texts in self text for more tokens"
   ]
  },
  {
   "cell_type": "code",
   "execution_count": 11,
   "id": "ae767d51",
   "metadata": {},
   "outputs": [
    {
     "name": "stdout",
     "output_type": "stream",
     "text": [
      "CPU times: user 782 ms, sys: 67.3 ms, total: 849 ms\n",
      "Wall time: 38.7 s\n"
     ]
    }
   ],
   "source": [
    "%%time\n",
    "subreddit = reddit.subreddit('Europetravel')\n",
    "\n",
    "t_posts_hot = subreddit.hot(limit=1000) \n",
    "t_posts_top = subreddit.top(limit = 1000) \n",
    "# t_posts_new = subreddit.new(limit = 1000) \n",
    "t_posts_cont = subreddit.controversial(limit = 1000)\n",
    "\n",
    "data_t = []\n",
    "for post in t_posts_hot:\n",
    "    if not post.stickied and post.is_self:\n",
    "        data_t.append(filter(None,[post.created_utc,post.title,post.selftext,post.subreddit]))\n",
    "for post in t_posts_top:\n",
    "    if not post.stickied and post.is_self:\n",
    "        data_t.append(filter(None,[post.created_utc,post.title,post.selftext,post.subreddit]))\n",
    "# for post in t_posts_new:\n",
    "#     if not post.stickied and post.is_self:\n",
    "#         data_t.append(filter(None,[post.created_utc,post.title,post.selftext,post.subreddit]))\n",
    "for post in t_posts_cont:\n",
    "    if not post.stickied and post.is_self:\n",
    "        data_t.append(filter(None,[post.created_utc,post.title,post.selftext,post.subreddit]))\n",
    "\n"
   ]
  },
  {
   "cell_type": "code",
   "execution_count": 12,
   "id": "a038ce3d",
   "metadata": {},
   "outputs": [
    {
     "data": {
      "text/html": [
       "<div>\n",
       "<style scoped>\n",
       "    .dataframe tbody tr th:only-of-type {\n",
       "        vertical-align: middle;\n",
       "    }\n",
       "\n",
       "    .dataframe tbody tr th {\n",
       "        vertical-align: top;\n",
       "    }\n",
       "\n",
       "    .dataframe thead th {\n",
       "        text-align: right;\n",
       "    }\n",
       "</style>\n",
       "<table border=\"1\" class=\"dataframe\">\n",
       "  <thead>\n",
       "    <tr style=\"text-align: right;\">\n",
       "      <th></th>\n",
       "      <th>created_utc</th>\n",
       "      <th>title</th>\n",
       "      <th>self_text</th>\n",
       "      <th>subreddit</th>\n",
       "    </tr>\n",
       "  </thead>\n",
       "  <tbody>\n",
       "    <tr>\n",
       "      <th>0</th>\n",
       "      <td>1.709524e+09</td>\n",
       "      <td>Safety precautions for Asian first-timers</td>\n",
       "      <td>Hi all, my partner and I are thinking of visit...</td>\n",
       "      <td>Europetravel</td>\n",
       "    </tr>\n",
       "    <tr>\n",
       "      <th>1</th>\n",
       "      <td>1.709531e+09</td>\n",
       "      <td>Looking for 3rd city for a 3-week trip — Amste...</td>\n",
       "      <td>Hi, my partner and I are going on a 3-week tri...</td>\n",
       "      <td>Europetravel</td>\n",
       "    </tr>\n",
       "    <tr>\n",
       "      <th>2</th>\n",
       "      <td>1.709521e+09</td>\n",
       "      <td>Southern France/Italy trip in June. Couple nee...</td>\n",
       "      <td>For my wife’s 40th bday, I booked us a 13 day ...</td>\n",
       "      <td>Europetravel</td>\n",
       "    </tr>\n",
       "    <tr>\n",
       "      <th>3</th>\n",
       "      <td>1.709489e+09</td>\n",
       "      <td>Looking for city suggestions - a post breakup ...</td>\n",
       "      <td>Hi all,\\n\\nI hope you're well. I just came out...</td>\n",
       "      <td>Europetravel</td>\n",
       "    </tr>\n",
       "    <tr>\n",
       "      <th>4</th>\n",
       "      <td>1.709525e+09</td>\n",
       "      <td>Traveling with my cat</td>\n",
       "      <td>I'm moving to Copenhagen with my 10-year-old c...</td>\n",
       "      <td>Europetravel</td>\n",
       "    </tr>\n",
       "  </tbody>\n",
       "</table>\n",
       "</div>"
      ],
      "text/plain": [
       "    created_utc                                              title  \\\n",
       "0  1.709524e+09          Safety precautions for Asian first-timers   \n",
       "1  1.709531e+09  Looking for 3rd city for a 3-week trip — Amste...   \n",
       "2  1.709521e+09  Southern France/Italy trip in June. Couple nee...   \n",
       "3  1.709489e+09  Looking for city suggestions - a post breakup ...   \n",
       "4  1.709525e+09                              Traveling with my cat   \n",
       "\n",
       "                                           self_text     subreddit  \n",
       "0  Hi all, my partner and I are thinking of visit...  Europetravel  \n",
       "1  Hi, my partner and I are going on a 3-week tri...  Europetravel  \n",
       "2  For my wife’s 40th bday, I booked us a 13 day ...  Europetravel  \n",
       "3  Hi all,\\n\\nI hope you're well. I just came out...  Europetravel  \n",
       "4  I'm moving to Copenhagen with my 10-year-old c...  Europetravel  "
      ]
     },
     "execution_count": 12,
     "metadata": {},
     "output_type": "execute_result"
    }
   ],
   "source": [
    "df_t = pd.DataFrame(data_t, columns = ['created_utc', 'title', 'self_text', 'subreddit'])\n",
    "df_t.head()"
   ]
  },
  {
   "cell_type": "code",
   "execution_count": 13,
   "id": "04fcae3d",
   "metadata": {},
   "outputs": [
    {
     "data": {
      "text/plain": [
       "(2443, 4)"
      ]
     },
     "execution_count": 13,
     "metadata": {},
     "output_type": "execute_result"
    }
   ],
   "source": [
    "df_t.shape"
   ]
  },
  {
   "cell_type": "markdown",
   "id": "df8c642d",
   "metadata": {},
   "source": [
    "Only keep the records that have value in subreddit column"
   ]
  },
  {
   "cell_type": "code",
   "execution_count": 14,
   "id": "3d265747",
   "metadata": {},
   "outputs": [
    {
     "data": {
      "text/plain": [
       "(2387, 4)"
      ]
     },
     "execution_count": 14,
     "metadata": {},
     "output_type": "execute_result"
    }
   ],
   "source": [
    "df_t_cleaned = df_t[df_t['subreddit'] == 'Europetravel']\n",
    "df_t_cleaned.shape"
   ]
  },
  {
   "cell_type": "markdown",
   "id": "e2e6f509",
   "metadata": {},
   "source": [
    "Remove duplicate records from travel"
   ]
  },
  {
   "cell_type": "code",
   "execution_count": 15,
   "id": "c5718d4a",
   "metadata": {},
   "outputs": [
    {
     "name": "stderr",
     "output_type": "stream",
     "text": [
      "/var/folders/4g/t9m4gw7n7dx1x3j6srwz6zqm0000gn/T/ipykernel_7348/4056231161.py:1: SettingWithCopyWarning: \n",
      "A value is trying to be set on a copy of a slice from a DataFrame\n",
      "\n",
      "See the caveats in the documentation: https://pandas.pydata.org/pandas-docs/stable/user_guide/indexing.html#returning-a-view-versus-a-copy\n",
      "  df_t_cleaned.drop_duplicates(subset = ['title','self_text','subreddit'],inplace = True)\n"
     ]
    }
   ],
   "source": [
    "df_t_cleaned.drop_duplicates(subset = ['title','self_text','subreddit'],inplace = True)"
   ]
  },
  {
   "cell_type": "code",
   "execution_count": 16,
   "id": "29f87d43",
   "metadata": {},
   "outputs": [
    {
     "data": {
      "text/plain": [
       "(2020, 4)"
      ]
     },
     "execution_count": 16,
     "metadata": {},
     "output_type": "execute_result"
    }
   ],
   "source": [
    "df_t_cleaned.shape"
   ]
  },
  {
   "cell_type": "markdown",
   "id": "0f078f79",
   "metadata": {},
   "source": [
    "Double check if there is any missing record in any column  \n",
    "Concatenate 2 subreddits together"
   ]
  },
  {
   "cell_type": "code",
   "execution_count": 18,
   "id": "c1ce5cc9",
   "metadata": {},
   "outputs": [
    {
     "data": {
      "text/plain": [
       "created_utc    0\n",
       "title          0\n",
       "self_text      0\n",
       "subreddit      0\n",
       "dtype: int64"
      ]
     },
     "execution_count": 18,
     "metadata": {},
     "output_type": "execute_result"
    }
   ],
   "source": [
    "df_c_cleaned.isnull().sum()"
   ]
  },
  {
   "cell_type": "code",
   "execution_count": 19,
   "id": "459c7baf",
   "metadata": {},
   "outputs": [
    {
     "data": {
      "text/plain": [
       "created_utc    0\n",
       "title          0\n",
       "self_text      0\n",
       "subreddit      0\n",
       "dtype: int64"
      ]
     },
     "execution_count": 19,
     "metadata": {},
     "output_type": "execute_result"
    }
   ],
   "source": [
    "df_t_cleaned.isnull().sum()"
   ]
  },
  {
   "cell_type": "markdown",
   "id": "2113e073",
   "metadata": {},
   "source": [
    "Each subreddit keeps 1000 records and execute concatenation"
   ]
  },
  {
   "cell_type": "markdown",
   "id": "8d50ed89",
   "metadata": {},
   "source": [
    "Export subreddits posts data into csv"
   ]
  },
  {
   "cell_type": "code",
   "execution_count": 20,
   "id": "d0ca451e",
   "metadata": {},
   "outputs": [],
   "source": [
    "df_c_cleaned.to_csv('../Data/reddit_posts_VisitingHawaii.csv', index =False)"
   ]
  },
  {
   "cell_type": "code",
   "execution_count": 21,
   "id": "55925648",
   "metadata": {},
   "outputs": [],
   "source": [
    "df_t_cleaned.to_csv('../Data/reddit_posts_Europetravel.csv', index =False)"
   ]
  },
  {
   "cell_type": "code",
   "execution_count": null,
   "id": "2d254277",
   "metadata": {},
   "outputs": [],
   "source": []
  }
 ],
 "metadata": {
  "kernelspec": {
   "display_name": "Python 3 (ipykernel)",
   "language": "python",
   "name": "python3"
  },
  "language_info": {
   "codemirror_mode": {
    "name": "ipython",
    "version": 3
   },
   "file_extension": ".py",
   "mimetype": "text/x-python",
   "name": "python",
   "nbconvert_exporter": "python",
   "pygments_lexer": "ipython3",
   "version": "3.11.5"
  }
 },
 "nbformat": 4,
 "nbformat_minor": 5
}
